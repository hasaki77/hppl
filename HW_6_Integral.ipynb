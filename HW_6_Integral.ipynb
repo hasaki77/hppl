{
 "cells": [
  {
   "cell_type": "markdown",
   "metadata": {},
   "source": [
    "## Homework 6: Integral"
   ]
  },
  {
   "cell_type": "markdown",
   "metadata": {},
   "source": [
    "### Import Library"
   ]
  },
  {
   "cell_type": "code",
   "execution_count": null,
   "metadata": {},
   "outputs": [],
   "source": [
    "import numpy as np\n",
    "import matplotlib.pyplot as plt\n",
    "from IPython.display import Image\n",
    "import os\n",
    "import sympy as sp\n",
    "\n",
    "from plotly import graph_objs as go\n",
    "from plotly import express as px\n",
    "\n",
    "import time\n",
    "import timeit\n",
    "\n",
    "from mpi4py import MPI\n",
    "\n",
    "import warnings\n",
    "warnings.filterwarnings('ignore')"
   ]
  },
  {
   "cell_type": "markdown",
   "metadata": {},
   "source": [
    "### Functions"
   ]
  },
  {
   "cell_type": "code",
   "execution_count": 125,
   "metadata": {},
   "outputs": [],
   "source": [
    "def trapezoid_integral(f, x_min: int, x_max: int, n: int) -> float:\n",
    "    integral = 0.0\n",
    "    delta_x = (x_max - x_min) / (n-1)\n",
    "    \n",
    "    for x in np.linspace(x_min, x_max, n):\n",
    "        integral += delta_x * (f(x) + f(x+delta_x)) / 2\n",
    "\n",
    "    return integral\n",
    "\n",
    "def func(x):\n",
    "    return x**2"
   ]
  },
  {
   "cell_type": "markdown",
   "metadata": {},
   "source": [
    "### Task 6.1"
   ]
  },
  {
   "cell_type": "code",
   "execution_count": null,
   "metadata": {},
   "outputs": [],
   "source": [
    "start = 0\n",
    "end = 1\n",
    "n = 20000000"
   ]
  },
  {
   "cell_type": "code",
   "execution_count": 141,
   "metadata": {},
   "outputs": [
    {
     "name": "stdout",
     "output_type": "stream",
     "text": [
      "Overwriting integral_calc.py\n"
     ]
    }
   ],
   "source": [
    "%%writefile integral_calc.py\n",
    "from mpi4py import MPI\n",
    "import numpy as np\n",
    "import argparse\n",
    "\n",
    "# Functions\n",
    "def trapezoid_integral(f, x_min: int, x_max: int, n: int) -> float:\n",
    "    integral = 0.0\n",
    "    delta_x = (x_max - x_min) / (n-1)\n",
    "    \n",
    "    for x in np.linspace(x_min, x_max, n):\n",
    "        integral += delta_x * (f(x) + f(x+delta_x)) / 2\n",
    "\n",
    "    return integral\n",
    "\n",
    "def func(x):\n",
    "    return x**2\n",
    "\n",
    "comm = MPI.COMM_WORLD\n",
    "rank = comm.Get_rank()\n",
    "size = comm.Get_size()\n",
    "\n",
    "# Arguments\n",
    "parser = argparse.ArgumentParser()\n",
    "parser.add_argument('--start_intg', type=int, help='Start point for integral')\n",
    "parser.add_argument('--end_intg', type=int, help='End point for integral')\n",
    "parser.add_argument('--n', type=int, help='Number of points')\n",
    "args = parser.parse_args()\n",
    "\n",
    "result = trapezoid_integral(func, args.start_intg, args.end_intg, args.n)\n",
    "\n",
    "# Output results\n",
    "if rank == 0:\n",
    "    print(f'Integral result: {result:.3f}')"
   ]
  },
  {
   "cell_type": "code",
   "execution_count": 144,
   "metadata": {},
   "outputs": [
    {
     "data": {
      "text/plain": [
       "0"
      ]
     },
     "execution_count": 144,
     "metadata": {},
     "output_type": "execute_result"
    }
   ],
   "source": [
    "os.system(f'python integral_calc.py --start_intg={start} --end_intg={end} --n={n}')"
   ]
  },
  {
   "cell_type": "markdown",
   "metadata": {},
   "source": [
    "### Task 6.2"
   ]
  },
  {
   "cell_type": "code",
   "execution_count": 145,
   "metadata": {},
   "outputs": [
    {
     "name": "stdout",
     "output_type": "stream",
     "text": [
      "Overwriting parallel_integral_calc.py\n"
     ]
    }
   ],
   "source": [
    "%%writefile parallel_integral_calc.py\n",
    "from mpi4py import MPI\n",
    "import numpy as np\n",
    "import argparse\n",
    "\n",
    "# Functions\n",
    "def trapezoid_integral(f, x_min: int, x_max: int, n: int) -> float:\n",
    "    integral = 0.0\n",
    "    delta_x = (x_max - x_min) / (n-1)\n",
    "    \n",
    "    for x in np.linspace(x_min, x_max, n):\n",
    "        integral += delta_x * (f(x) + f(x+delta_x)) / 2\n",
    "\n",
    "    return integral\n",
    "\n",
    "def func(x):\n",
    "    return x**2\n",
    "\n",
    "# Arguments\n",
    "parser = argparse.ArgumentParser()\n",
    "parser.add_argument('--start_intg', type=int, help='Start point for integral')\n",
    "parser.add_argument('--end_intg', type=int, help='End point for integral')\n",
    "parser.add_argument('--n', type=int, help='Number of points')\n",
    "args = parser.parse_args()\n",
    "\n",
    "comm = MPI.COMM_WORLD\n",
    "rank = comm.Get_rank()\n",
    "size = comm.Get_size()\n",
    "\n",
    "# Chunk range\n",
    "N = np.abs(args.end_intg) - np.abs(args.start_intg)\n",
    "chunk_size = N // size\n",
    "\n",
    "start = args.start_intg + rank * chunk_size\n",
    "end = start + chunk_size if rank != size - 1 else args.end_intg\n",
    "\n",
    "local_result = trapezoid_integral(func, start, end, n=args.n//size)\n",
    "\n",
    "global_sum = None\n",
    "if rank == 0:\n",
    "    global_sum = np.array([0], dtype=np.float64)\n",
    "\n",
    "\n",
    "comm.Reduce(np.array([local_result]), global_sum, op=MPI.SUM, root=0)\n",
    "#MPI.Finalize()\n",
    "\n",
    "# Output results\n",
    "if rank == 0:\n",
    "    print(f\"Интеграл | x**2 | от {args.start_intg} до {args.end_intg}: {global_sum[0]:.3f}\")"
   ]
  },
  {
   "cell_type": "code",
   "execution_count": 146,
   "metadata": {},
   "outputs": [
    {
     "data": {
      "text/plain": [
       "0"
      ]
     },
     "execution_count": 146,
     "metadata": {},
     "output_type": "execute_result"
    }
   ],
   "source": [
    "os.system(f'mpiexec -n 2 python parallel_integral_calc.py --start_intg={start} --end_intg={end} --n={n}')"
   ]
  },
  {
   "cell_type": "markdown",
   "metadata": {},
   "source": [
    "### Task 6.3"
   ]
  },
  {
   "cell_type": "code",
   "execution_count": 156,
   "metadata": {},
   "outputs": [],
   "source": [
    "num_processes = np.arange(1, 7, 1)\n",
    "exec_time = np.zeros_like(num_processes)\n",
    "for i, procs in enumerate(num_processes):\n",
    "        if procs == 1:\n",
    "                start_time = time.time()\n",
    "                os.system(f'python integral_calc.py --start_intg={start} --end_intg={end} --n={n}')\n",
    "                end_time = time.time()\n",
    "        else:\n",
    "                start_time = time.time()\n",
    "                os.system(f'mpiexec -n {procs} python parallel_integral_calc.py --start_intg={start} --end_intg={end} --n={n}')\n",
    "                end_time = time.time()\n",
    "        \n",
    "        exec_time[i] = end_time - start_time"
   ]
  },
  {
   "cell_type": "code",
   "execution_count": 161,
   "metadata": {},
   "outputs": [
    {
     "name": "stdout",
     "output_type": "stream",
     "text": [
      "Speed up 1 process vs 2 processes: 2.00\n"
     ]
    }
   ],
   "source": [
    "print(f'Speed up 1 process vs 2 processes: {(exec_time[0] / exec_time[1]):.2f}')"
   ]
  },
  {
   "cell_type": "markdown",
   "metadata": {},
   "source": [
    "### Task 6.4"
   ]
  },
  {
   "cell_type": "code",
   "execution_count": 159,
   "metadata": {},
   "outputs": [
    {
     "data": {
      "image/png": "[encoded data removed]",
      "text/plain": [
       "<Figure size 1000x600 with 1 Axes>"
      ]
     },
     "metadata": {},
     "output_type": "display_data"
    }
   ],
   "source": [
    "plt.figure(figsize=(10, 6))\n",
    "plt.plot(num_processes, exec_time, marker='o', color='blue')\n",
    "plt.xlabel('MPI count', fontsize=20)\n",
    "plt.xticks(fontsize=16)\n",
    "plt.ylabel('Time, s', fontsize=20)\n",
    "plt.yticks(fontsize=16)\n",
    "plt.show()"
   ]
  },
  {
   "cell_type": "markdown",
   "metadata": {},
   "source": [
    "### Task 6.5"
   ]
  },
  {
   "cell_type": "code",
   "execution_count": 164,
   "metadata": {},
   "outputs": [
    {
     "name": "stdout",
     "output_type": "stream",
     "text": [
      "My Integral result: 0.333\n",
      "SciPy Integral result: 1/3\n"
     ]
    }
   ],
   "source": [
    "result = trapezoid_integral(func, start, end, n=100000)\n",
    "\n",
    "x = sp.symbols('x')\n",
    "f = x**2\n",
    "integral_result = sp.integrate(f, (x, start, end))\n",
    "\n",
    "print(f'My Integral result: {result:.3f}')\n",
    "print(\"SciPy Integral result:\", integral_result)"
   ]
  }
 ],
 "metadata": {
  "kernelspec": {
   "display_name": "base",
   "language": "python",
   "name": "python3"
  },
  "language_info": {
   "codemirror_mode": {
    "name": "ipython",
    "version": 3
   },
   "file_extension": ".py",
   "mimetype": "text/x-python",
   "name": "python",
   "nbconvert_exporter": "python",
   "pygments_lexer": "ipython3",
   "version": "3.9.13"
  }
 },
 "nbformat": 4,
 "nbformat_minor": 2
}
