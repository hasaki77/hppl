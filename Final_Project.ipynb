{
 "cells": [
  {
   "cell_type": "markdown",
   "metadata": {},
   "source": [
    "## Project: Thermodynamical Properties"
   ]
  },
  {
   "cell_type": "markdown",
   "metadata": {},
   "source": [
    "### Import Library"
   ]
  },
  {
   "cell_type": "code",
   "execution_count": 57,
   "metadata": {},
   "outputs": [],
   "source": [
    "import numpy as np\n",
    "import sympy as sp\n",
    "#from numba import int32, int64, float32, float64, vectorize\n",
    "\n",
    "import os\n",
    "from mpi4py import MPI\n",
    "from numba import njit\n",
    "\n",
    "import matplotlib.pyplot as plt\n",
    "from plotly import graph_objs as go\n",
    "from plotly import express as px\n",
    "from IPython.display import Image\n",
    "\n",
    "import time\n",
    "import timeit\n",
    "from threading import Thread\n",
    "from multiprocessing import Pool, Process\n",
    "from scipy.integrate import quad\n",
    "\n",
    "import warnings\n",
    "warnings.filterwarnings('ignore')"
   ]
  },
  {
   "cell_type": "markdown",
   "metadata": {},
   "source": [
    "### Functions"
   ]
  },
  {
   "cell_type": "code",
   "execution_count": 39,
   "metadata": {},
   "outputs": [
    {
     "name": "stdout",
     "output_type": "stream",
     "text": [
      "Overwriting functions.py\n"
     ]
    }
   ],
   "source": [
    "%%writefile functions.py\n",
    "import numpy as np\n",
    "def trapezoidal_function(f, xmin: int, xmax: float, n: int, **kwargs):\n",
    "    integral = 0.0\n",
    "    dx = (xmax - xmin) / (n+1)\n",
    "\n",
    "    for x in np.linspace(xmin, xmax, n):\n",
    "        integral += dx * ( f(x, **kwargs) + f(x+dx, **kwargs) )/2\n",
    "    \n",
    "    return integral\n",
    "\n",
    "def func(x):\n",
    "    return (1 - x**2)**0.5\n",
    "\n",
    "def phonon_dos(omega, omega_c=10, C=1):\n",
    "    return C * omega**2 * np.exp(-omega / omega_c)\n",
    "\n",
    "def entropy(omega, T, kb, hbar):\n",
    "    x = hbar*omega / (kb*T)\n",
    "    return (x / np.tanh(x / 2) - np.log(2 * np.sinh(x / 2))) * phonon_dos(omega)"
   ]
  },
  {
   "cell_type": "markdown",
   "metadata": {},
   "source": [
    "### Constants"
   ]
  },
  {
   "cell_type": "code",
   "execution_count": 37,
   "metadata": {},
   "outputs": [
    {
     "data": {
      "text/plain": [
       "1.5686275328175605"
      ]
     },
     "execution_count": 37,
     "metadata": {},
     "output_type": "execute_result"
    }
   ],
   "source": [
    "import functions as f\n",
    "hbar = 1.054e-34\n",
    "kB = 1.38e-23\n",
    "f.trapezoidal_function(\n",
    "    f=f.func,\n",
    "    xmin=-0.99,\n",
    "    xmax=0.99,\n",
    "    n=10000,\n",
    ")"
   ]
  },
  {
   "cell_type": "markdown",
   "metadata": {},
   "source": [
    "### Values"
   ]
  },
  {
   "cell_type": "code",
   "execution_count": 64,
   "metadata": {},
   "outputs": [],
   "source": [
    "omega_min, omega_max = 1, 1000\n",
    "n = 1000000\n",
    "T=273"
   ]
  },
  {
   "cell_type": "markdown",
   "metadata": {},
   "source": [
    "### Task 1: Enthropy"
   ]
  },
  {
   "attachments": {
    "image.png": {
     "image/png": "[encoded data removed]"
    }
   },
   "cell_type": "markdown",
   "metadata": {},
   "source": [
    "![image.png](attachment:image.png)"
   ]
  },
  {
   "cell_type": "code",
   "execution_count": null,
   "metadata": {},
   "outputs": [
    {
     "data": {
      "text/plain": [
       "8.273604057693148e-19"
      ]
     },
     "execution_count": 44,
     "metadata": {},
     "output_type": "execute_result"
    }
   ],
   "source": [
    "def phonon_dos(omega, omega_c=10, C=1):\n",
    "    return C * omega**2 * np.exp(-omega / omega_c)\n",
    "\n",
    "def entropy(omega, T, kb, hbar):\n",
    "    x = hbar*omega / (kb*T)\n",
    "    return (x / np.tanh(x / 2) - np.log(2 * np.sinh(x / 2))) * phonon_dos(omega)\n",
    "\n",
    "entropy_value = kB * f.trapezoidal_function(\n",
    "    f=entropy,\n",
    "    xmin=omega_min,\n",
    "    xmax=omega_max,\n",
    "    n=n,\n",
    "    T=T,\n",
    "    kb=kB,\n",
    "    hbar=hbar)\n",
    "entropy_value"
   ]
  },
  {
   "cell_type": "code",
   "execution_count": 28,
   "metadata": {},
   "outputs": [
    {
     "data": {
      "text/plain": [
       "8.276089556109981e-19"
      ]
     },
     "execution_count": 28,
     "metadata": {},
     "output_type": "execute_result"
    }
   ],
   "source": [
    "def entropy_integrand(omega, T=273, kb=1.38e-23, hbar=1.05e-34):\n",
    "    x = hbar * omega / (kb * T)\n",
    "    return (x / np.tanh(x / 2) - np.log(2 * np.sinh(x / 2))) * phonon_dos(omega)\n",
    "\n",
    "kB * quad(entropy_integrand, omega_min, omega_max)[0]"
   ]
  },
  {
   "cell_type": "code",
   "execution_count": 40,
   "metadata": {},
   "outputs": [
    {
     "name": "stdout",
     "output_type": "stream",
     "text": [
      "Overwriting parallel_entropy.py\n"
     ]
    }
   ],
   "source": [
    "%%writefile parallel_entropy.py\n",
    "\n",
    "# Import Library\n",
    "from mpi4py import MPI\n",
    "import numpy as np\n",
    "import argparse\n",
    "import functions as f\n",
    "\n",
    "# Constants\n",
    "hbar = 1.054e-34\n",
    "kB = 1.38e-23\n",
    "\n",
    "# Parser\n",
    "parser = argparse.ArgumentParser()\n",
    "parser.add_argument('--xmin', type=float, help='Lower bound of the integral')\n",
    "parser.add_argument('--xmax', type=float, help='Upper bound of the integral')\n",
    "parser.add_argument('--n', type=int, help='Number of points in the integral')\n",
    "parser.add_argument('--T', type=int, help='Temperature')\n",
    "args = parser.parse_args()\n",
    "comm = MPI.COMM_WORLD\n",
    "rank = comm.Get_rank()\n",
    "size = comm.Get_size()\n",
    "\n",
    "# Chunk range\n",
    "N = args.xmax - args.xmin\n",
    "chunk_size = N // size\n",
    "\n",
    "start = args.xmin + rank*chunk_size\n",
    "end = start + chunk_size if rank != size - 1 else args.xmax\n",
    "\n",
    "global_integral = None\n",
    "if rank == 0:\n",
    "    global_integral = np.array([0], dtype=np.float64)\n",
    "\n",
    "# Main Calculations\n",
    "entropy_value = kB * f.trapezoidal_function(\n",
    "    f=f.entropy,\n",
    "    xmin=start,\n",
    "    xmax=end,\n",
    "    n=args.n,\n",
    "    T=args.T,\n",
    "    kb=kB,\n",
    "    hbar=hbar)\n",
    "\n",
    "comm.Reduce(np.array(entropy_value), global_integral, op=MPI.SUM, root=0)\n",
    "\n",
    "# Output results\n",
    "if rank == 0:\n",
    "    print(f\"Entropy: {global_integral[0]}\")"
   ]
  },
  {
   "cell_type": "code",
   "execution_count": 43,
   "metadata": {},
   "outputs": [
    {
     "name": "stdout",
     "output_type": "stream",
     "text": [
      "Entropy: 8.273604064816872e-19\n"
     ]
    }
   ],
   "source": [
    "!mpiexec -n 8 python parallel_entropy.py --xmin={omega_min} --xmax={omega_max} --n={n} --T=273"
   ]
  },
  {
   "cell_type": "markdown",
   "metadata": {},
   "source": [
    "### Task 2: Enthalpy"
   ]
  },
  {
   "attachments": {
    "image.png": {
     "image/png": "[encoded data removed]"
    }
   },
   "cell_type": "markdown",
   "metadata": {},
   "source": [
    "![image.png](attachment:image.png)"
   ]
  },
  {
   "cell_type": "code",
   "execution_count": 62,
   "metadata": {},
   "outputs": [],
   "source": [
    "def enthalpy(omega, T, kb, hbar):\n",
    "    x = hbar*omega / (kb*T)\n",
    "    return hbar*omega * (1 / np.tanh(x / 2)) * phonon_dos(omega)\n",
    "\n",
    "@njit\n",
    "def jit_enthalpy(omega, T, kb, hbar):\n",
    "    x = hbar*omega / (kb*T)\n",
    "    return hbar*omega * (1 / np.tanh(x / 2)) * 1 * omega**2 * np.exp(-omega / 10)\n"
   ]
  },
  {
   "cell_type": "code",
   "execution_count": 65,
   "metadata": {},
   "outputs": [
    {
     "data": {
      "text/plain": [
       "1.506723930450195e-17"
      ]
     },
     "execution_count": 65,
     "metadata": {},
     "output_type": "execute_result"
    }
   ],
   "source": [
    "enthalpy_value = f.trapezoidal_function(\n",
    "    f=enthalpy,\n",
    "    xmin=omega_min,\n",
    "    xmax=omega_max,\n",
    "    n=n,\n",
    "    T=T,\n",
    "    kb=kB,\n",
    "    hbar=hbar\n",
    ")\n",
    "enthalpy_value"
   ]
  },
  {
   "cell_type": "code",
   "execution_count": 66,
   "metadata": {},
   "outputs": [
    {
     "data": {
      "text/plain": [
       "1.506723930450195e-17"
      ]
     },
     "execution_count": 66,
     "metadata": {},
     "output_type": "execute_result"
    }
   ],
   "source": [
    "enthalpy_value = f.trapezoidal_function(\n",
    "    f=jit_enthalpy,\n",
    "    xmin=omega_min,\n",
    "    xmax=omega_max,\n",
    "    n=n,\n",
    "    T=T,\n",
    "    kb=kB,\n",
    "    hbar=hbar\n",
    ")\n",
    "enthalpy_value"
   ]
  },
  {
   "cell_type": "code",
   "execution_count": 55,
   "metadata": {},
   "outputs": [
    {
     "data": {
      "text/plain": [
       "1.507069251028418e-17"
      ]
     },
     "execution_count": 55,
     "metadata": {},
     "output_type": "execute_result"
    }
   ],
   "source": [
    "def enthalpy_quad(omega, T=273, kb=1.38e-23, hbar=1.054e-34):\n",
    "    x = hbar*omega / (kb*T)\n",
    "    return hbar*omega * (1 / np.tanh(x / 2)) * phonon_dos(omega)\n",
    "quad(func=enthalpy_quad, a=omega_min, b=omega_max)[0]"
   ]
  },
  {
   "cell_type": "markdown",
   "metadata": {},
   "source": [
    "### Task 3: Gibbs Energy"
   ]
  },
  {
   "attachments": {
    "image.png": {
     "image/png": "[encoded data removed]"
    }
   },
   "cell_type": "markdown",
   "metadata": {},
   "source": [
    "![image.png](attachment:image.png)"
   ]
  },
  {
   "cell_type": "code",
   "execution_count": null,
   "metadata": {},
   "outputs": [],
   "source": []
  },
  {
   "cell_type": "markdown",
   "metadata": {},
   "source": [
    "### Task 4: Helmholtz Free Energy"
   ]
  },
  {
   "attachments": {
    "image.png": {
     "image/png": "[encoded data removed]"
    }
   },
   "cell_type": "markdown",
   "metadata": {},
   "source": [
    "![image.png](attachment:image.png)"
   ]
  },
  {
   "cell_type": "code",
   "execution_count": null,
   "metadata": {},
   "outputs": [],
   "source": [
    "def trapezoidal_function(f, xmin: int, xmax: float, n: int, **kwargs):\n",
    "    integral = 0.0\n",
    "    dx = (xmax - xmin) / (n+1)\n",
    "\n",
    "    for x in np.linspace(xmin, xmax, n):\n",
    "        integral += dx * ( f(x, **kwargs) + f(x+dx, **kwargs) )/2\n",
    "    \n",
    "    return integral\n",
    "    \n",
    "def helmholtz_energy(omega, T, kb, hbar):\n",
    "    x = hbar*omega / (kb*T)\n",
    "    return np.log(2 * np.sinh(x / 2)) * 1 * omega**2 * np.exp(-omega / 10)\n",
    "\n",
    "def gpu_helmholtz_energy(omega, T, kb, hbar):\n",
    "    x = hbar*omega / (kb*T)\n",
    "    return cp.log(2 * cp.sinh(x / 2)) * 1 * omega**2 * cp.exp(-omega / 10)\n",
    "\n",
    "def gpu_trapezoidal_function(f, xmin: int, xmax: float, n: int, **kwargs):\n",
    "    integral = 0.0\n",
    "    dx = (xmax - xmin) / (n+1)\n",
    "    x = cp.linspace(xmin, xmax, n)\n",
    "\n",
    "    integral = dx * ( f(x, **kwargs) + f(x+dx, **kwargs) )/2\n",
    "    \n",
    "    return integral.sum()"
   ]
  },
  {
   "cell_type": "code",
   "execution_count": null,
   "metadata": {},
   "outputs": [],
   "source": [
    "Helm_energy_value = trapezoidal_function(\n",
    "    f=helmholtz_energy,\n",
    "    xmin=omega_min,\n",
    "    xmax=omega_max,\n",
    "    n=n,\n",
    "    T=T,\n",
    "    kb=kB,\n",
    "    hbar=hbar\n",
    ")\n",
    "Helm_energy_value"
   ]
  },
  {
   "cell_type": "code",
   "execution_count": null,
   "metadata": {},
   "outputs": [],
   "source": [
    "GPU_Helm_energy_value = gpu_trapezoidal_function(\n",
    "    f=gpu_helmholtz_energy,\n",
    "    xmin=omega_min,\n",
    "    xmax=omega_max,\n",
    "    n=n,\n",
    "    T=T,\n",
    "    kb=kB,\n",
    "    hbar=hbar\n",
    ")\n",
    "GPU_Helm_energy_value"
   ]
  }
 ],
 "metadata": {
  "kernelspec": {
   "display_name": "base",
   "language": "python",
   "name": "python3"
  },
  "language_info": {
   "codemirror_mode": {
    "name": "ipython",
    "version": 3
   },
   "file_extension": ".py",
   "mimetype": "text/x-python",
   "name": "python",
   "nbconvert_exporter": "python",
   "pygments_lexer": "ipython3",
   "version": "3.9.13"
  }
 },
 "nbformat": 4,
 "nbformat_minor": 2
}
